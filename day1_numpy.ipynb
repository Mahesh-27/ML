{
 "cells": [
  {
   "cell_type": "code",
   "execution_count": 10,
   "id": "9adf8194",
   "metadata": {},
   "outputs": [
    {
     "name": "stdout",
     "output_type": "stream",
     "text": [
      "[1 4 5 6]\n"
     ]
    }
   ],
   "source": [
    "import numpy as np\n",
    "a=np.array([1,4,5,6])\n",
    "print(a)"
   ]
  },
  {
   "cell_type": "code",
   "execution_count": 11,
   "id": "2bfd21c5",
   "metadata": {},
   "outputs": [
    {
     "data": {
      "text/plain": [
       "numpy.ndarray"
      ]
     },
     "execution_count": 11,
     "metadata": {},
     "output_type": "execute_result"
    }
   ],
   "source": [
    "type(a)"
   ]
  },
  {
   "cell_type": "code",
   "execution_count": 12,
   "id": "a28aa5d5",
   "metadata": {},
   "outputs": [
    {
     "name": "stdout",
     "output_type": "stream",
     "text": [
      "[1.  5.3 2.  6.7]\n"
     ]
    }
   ],
   "source": [
    "b=np.array([1,5.3,2,6.7])\n",
    "print(b)"
   ]
  },
  {
   "cell_type": "code",
   "execution_count": 13,
   "id": "05503368",
   "metadata": {},
   "outputs": [
    {
     "name": "stdout",
     "output_type": "stream",
     "text": [
      "[10 12 13 20 24 32 32 34 43 56]\n"
     ]
    }
   ],
   "source": [
    "age=np.array([10,20,13,12,34,56,24,32,43,32])\n",
    "age=np.sort(age)\n",
    "print(age)"
   ]
  },
  {
   "cell_type": "code",
   "execution_count": 25,
   "id": "bd2f5038",
   "metadata": {},
   "outputs": [
    {
     "name": "stdout",
     "output_type": "stream",
     "text": [
      "array \n",
      " [[1 2]\n",
      " [1 3]\n",
      " [1 4]]\n",
      "type  <class 'numpy.ndarray'>\n",
      "size  6\n",
      "size  2\n",
      "shape  (3, 2)\n",
      "datatype  int32\n"
     ]
    }
   ],
   "source": [
    "d=np.array([[1,2],[1,3],[1,4]])\n",
    "print(\"array \\n\",d)\n",
    "print(\"type \",type(d))\n",
    "print(\"size \",d.size)\n",
    "print(\"size \",d.ndim)\n",
    "print(\"shape \",d.shape)\n",
    "print(\"datatype \",d.dtype)"
   ]
  },
  {
   "cell_type": "code",
   "execution_count": 62,
   "id": "c30bd25a",
   "metadata": {},
   "outputs": [
    {
     "name": "stdout",
     "output_type": "stream",
     "text": [
      "array is  [ 1.   3.5  6.   8.5 11.  13.5 16.  18.5 21. ]\n",
      "reshaped array is \n",
      " [[ 1.   3.5  6. ]\n",
      " [ 8.5 11.  13.5]\n",
      " [16.  18.5 21. ]]\n",
      "1.0\n",
      "21.0\n",
      "[ 1.   3.5  6.   8.5 11.  13.5 16.  18.5 21. ]\n",
      "11.0\n",
      "11.0\n"
     ]
    }
   ],
   "source": [
    "c=np.arange(1,22,2.5)\n",
    "print(\"array is \", c)\n",
    "print(\"reshaped array is \\n\",c.reshape(3,3))#no.of elements in array =produvt of the row*column want to create\n",
    "print(np.min(c))\n",
    "print(np.max(c))\n",
    "print(np.sort(c))\n",
    "print(np.mean(c))\n",
    "print(np.median(c))"
   ]
  },
  {
   "cell_type": "code",
   "execution_count": 60,
   "id": "771a2d9d",
   "metadata": {},
   "outputs": [
    {
     "name": "stdout",
     "output_type": "stream",
     "text": [
      "array 1 is \n",
      " [[1 2 3]\n",
      " [4 5 6]\n",
      " [7 8 9]]\n",
      "array 2 is \n",
      " [[10 11 12]\n",
      " [13 14 15]\n",
      " [16 17 18]]\n",
      "addition \n",
      " [[11 13 15]\n",
      " [17 19 21]\n",
      " [23 25 27]]\n",
      "subtraction \n",
      " [[-9 -9 -9]\n",
      " [-9 -9 -9]\n",
      " [-9 -9 -9]]\n",
      "multiplication \n",
      " [[ 84  90  96]\n",
      " [201 216 231]\n",
      " [318 342 366]]\n",
      "division \n",
      " [[1 2 3]\n",
      " [4 5 6]\n",
      " [7 8 9]]\n"
     ]
    }
   ],
   "source": [
    "a1=np.arange(1,10,1).reshape(3,3)\n",
    "a2=np.arange(10,19,1).reshape(3,3)\n",
    "print(\"array 1 is \\n\",a1)\n",
    "print(\"array 2 is \\n\",a2)\n",
    "print(\"addition \\n\",a1+a2)\n",
    "print(\"subtraction \\n\",a1-a2)\n",
    "print(\"multiplication \\n\",a1@a2)#matric multiplication\n",
    "print(\"division \\n\",a1%a2)"
   ]
  },
  {
   "cell_type": "code",
   "execution_count": 67,
   "id": "00551b21",
   "metadata": {},
   "outputs": [
    {
     "name": "stdout",
     "output_type": "stream",
     "text": [
      "6.666666666666667\n",
      "2.581988897471611\n",
      "-9.51619735392994e-16\n",
      "(array([ 1.61168440e+01, -1.11684397e+00, -3.38433605e-16]), array([[-0.23197069, -0.78583024,  0.40824829],\n",
      "       [-0.52532209, -0.08675134, -0.81649658],\n",
      "       [-0.8186735 ,  0.61232756,  0.40824829]]))\n",
      "[ 1.61168440e+01 -1.11684397e+00 -3.38433605e-16]\n"
     ]
    }
   ],
   "source": [
    "a1=np.arange(1,10,1).reshape(3,3)\n",
    "print(np.var(a1))\n",
    "print(np.std(a1))\n",
    "print(np.linalg.det(a1))\n",
    "print(np.linalg.eig(a1))\n",
    "print(np.linalg.eigvals(a1))"
   ]
  },
  {
   "cell_type": "code",
   "execution_count": 75,
   "id": "51efae4e",
   "metadata": {},
   "outputs": [
    {
     "data": {
      "text/plain": [
       "array([6, 7, 8, 9])"
      ]
     },
     "execution_count": 75,
     "metadata": {},
     "output_type": "execute_result"
    }
   ],
   "source": [
    "a1=np.arange(1,10,1)\n",
    "a1=a1[a1>5]\n",
    "a1"
   ]
  },
  {
   "cell_type": "code",
   "execution_count": null,
   "id": "f15633ab",
   "metadata": {},
   "outputs": [],
   "source": []
  }
 ],
 "metadata": {
  "kernelspec": {
   "display_name": "Python 3 (ipykernel)",
   "language": "python",
   "name": "python3"
  },
  "language_info": {
   "codemirror_mode": {
    "name": "ipython",
    "version": 3
   },
   "file_extension": ".py",
   "mimetype": "text/x-python",
   "name": "python",
   "nbconvert_exporter": "python",
   "pygments_lexer": "ipython3",
   "version": "3.9.12"
  }
 },
 "nbformat": 4,
 "nbformat_minor": 5
}
